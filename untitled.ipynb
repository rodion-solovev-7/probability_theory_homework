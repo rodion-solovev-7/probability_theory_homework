{
 "cells": [
  {
   "cell_type": "code",
   "execution_count": 45,
   "metadata": {
    "pycharm": {
     "name": "#%%\n"
    }
   },
   "outputs": [],
   "source": [
    "import numpy as np\n",
    "import pandas as pd\n",
    "from scipy.stats import norm\n",
    "from math import log, ceil, floor, sqrt, atan, pi\n",
    "from pprint import pprint\n",
    "from matplotlib import pyplot as plt"
   ]
  },
  {
   "cell_type": "code",
   "execution_count": 46,
   "metadata": {
    "pycharm": {
     "name": "#%%\n"
    }
   },
   "outputs": [
    {
     "name": "stdout",
     "output_type": "stream",
     "text": [
      "Исходные данные:\n",
      "    math score  writing score\n",
      "0           84             91\n",
      "1           44             51\n",
      "2           59             67\n",
      "3           35             43\n",
      "4           60             74\n",
      "..         ...            ...\n",
      "95          63             68\n",
      "96          65             80\n",
      "97          63             74\n",
      "98          77             88\n",
      "99          64             68\n",
      "\n",
      "[100 rows x 2 columns]\n"
     ]
    }
   ],
   "source": [
    "df = pd.read_csv('/home/rodion/Documents/РР Тервер/backup/students_performance100.csv')\n",
    "print(f\"Исходные данные:\\n{df}\")"
   ]
  },
  {
   "cell_type": "code",
   "execution_count": 47,
   "metadata": {
    "pycharm": {
     "name": "#%%\n"
    }
   },
   "outputs": [
    {
     "name": "stdout",
     "output_type": "stream",
     "text": [
      "Данные после фильтрации:\n",
      "     x   y\n",
      "0   84  91\n",
      "1   44  51\n",
      "2   59  67\n",
      "3   35  43\n",
      "4   60  74\n",
      "..  ..  ..\n",
      "95  63  68\n",
      "96  65  80\n",
      "97  63  74\n",
      "98  77  88\n",
      "99  64  68\n",
      "\n",
      "[100 rows x 2 columns]\n"
     ]
    }
   ],
   "source": [
    "# <-- В этом месте должна проводиться фильтация, если она нужна\n",
    "\n",
    "df = df.rename(columns={df.columns[0]: 'x', df.columns[1]: 'y'})\n",
    "print(f\"Данные после фильтрации:\\n{df}\")\n",
    "# df.to_excel('xy-start.xls', index=False)"
   ]
  },
  {
   "cell_type": "code",
   "execution_count": 48,
   "metadata": {
    "pycharm": {
     "name": "#%%\n"
    }
   },
   "outputs": [
    {
     "name": "stdout",
     "output_type": "stream",
     "text": [
      "Одномерная выборка:\n",
      "     x\n",
      "35  29\n",
      "6   32\n",
      "87  34\n",
      "58  35\n",
      "3   35\n",
      "..  ..\n",
      "0   84\n",
      "89  85\n",
      "33  86\n",
      "73  91\n",
      "31  91\n",
      "\n",
      "[100 rows x 1 columns]\n"
     ]
    }
   ],
   "source": [
    "x_df = df[['x']].sort_values(by='x')\n",
    "print(f\"Одномерная выборка:\\n{x_df}\")\n",
    "# x_df.to_excel('x-start.xls', index=False)\n",
    "\n",
    "# x_df.boxplot()"
   ]
  },
  {
   "cell_type": "code",
   "execution_count": 49,
   "metadata": {
    "pycharm": {
     "name": "#%%\n"
    }
   },
   "outputs": [
    {
     "name": "stdout",
     "output_type": "stream",
     "text": [
      "Кол-во элементов выборки: 100\n"
     ]
    }
   ],
   "source": [
    "N = len(x_df)\n",
    "print(f\"Кол-во элементов выборки: {N}\")"
   ]
  },
  {
   "cell_type": "code",
   "execution_count": 50,
   "metadata": {
    "pycharm": {
     "name": "#%%\n"
    }
   },
   "outputs": [
    {
     "name": "stdout",
     "output_type": "stream",
     "text": [
      "Максимальное значение выборки: 91\n",
      "Минимальное значение выборки: 29\n"
     ]
    }
   ],
   "source": [
    "x_mx = x_df.max(axis=0).x\n",
    "x_mn = x_df.min(axis=0).x\n",
    "\n",
    "print(f\"Максимальное значение выборки: {x_mx}\")\n",
    "print(f\"Минимальное значение выборки: {x_mn}\")"
   ]
  },
  {
   "cell_type": "code",
   "execution_count": 51,
   "metadata": {
    "pycharm": {
     "name": "#%%\n"
    }
   },
   "outputs": [
    {
     "name": "stdout",
     "output_type": "stream",
     "text": [
      "Кол-во интервалов: 8\n"
     ]
    }
   ],
   "source": [
    "n = int(ceil(1 + log(N, 2)))\n",
    "# n = 7\n",
    "print(f\"Кол-во интервалов: {n}\")"
   ]
  },
  {
   "cell_type": "code",
   "execution_count": 52,
   "metadata": {
    "pycharm": {
     "name": "#%%\n"
    }
   },
   "outputs": [
    {
     "name": "stdout",
     "output_type": "stream",
     "text": [
      "Размах выборки: 62\n"
     ]
    }
   ],
   "source": [
    "k = x_mx - x_mn\n",
    "print(f\"Размах выборки: {k}\")"
   ]
  },
  {
   "cell_type": "code",
   "execution_count": 53,
   "metadata": {
    "pycharm": {
     "name": "#%%\n"
    }
   },
   "outputs": [
    {
     "name": "stdout",
     "output_type": "stream",
     "text": [
      "Длина интервала: 7.75\n"
     ]
    }
   ],
   "source": [
    "h = k / n\n",
    "print(f\"Длина интервала: {h}\")"
   ]
  },
  {
   "cell_type": "code",
   "execution_count": 54,
   "metadata": {
    "pycharm": {
     "name": "#%%\n"
    }
   },
   "outputs": [
    {
     "name": "stdout",
     "output_type": "stream",
     "text": [
      "Диапазоны:\n",
      "(28; 37]\n",
      "(37; 44]\n",
      "(44; 52]\n",
      "(52; 60]\n",
      "(60; 68]\n",
      "(68; 76]\n",
      "(76; 83]\n",
      "(83; 91]\n",
      "Диапазоны:\n",
      "28-37\n",
      "37-44\n",
      "44-52\n",
      "52-60\n",
      "60-68\n",
      "68-76\n",
      "76-83\n",
      "83-91\n"
     ]
    }
   ],
   "source": [
    "x_range_calc_df = pd.DataFrame()\n",
    "\n",
    "range_x_df = np.round(np.arange(x_mn, x_mx + h, h), 0).astype('int')\n",
    "range_x_df[0] -= 1\n",
    "# ^ TODO: разобраться почему минимальное значение не попадает в (!) открытую (!) левую границу диапазона\n",
    "\n",
    "cutter_x = pd.cut(x_df['x'], range_x_df)\n",
    "\n",
    "# orig_interval = cutter_x.min()\n",
    "# repl_interval = pd.Interval(left=orig_interval.left, right=orig_interval.right, closed='both')\n",
    "# cutter_x = cutter_x.replace(to_replace=orig_interval, value=repl_interval)\n",
    "\n",
    "x_ranges = sorted(set(cutter_x.values))\n",
    "\n",
    "x_range_calc_df['range'] = x_ranges\n",
    "x_range_calc_df['range_text'] = [f\"{r.left}-{r.right}\" for r in x_ranges]\n",
    "\n",
    "print(\"Диапазоны:\", *(f'({v.left}; {v.right}]' for v in x_ranges), sep='\\n')\n",
    "\n",
    "print(\"Диапазоны:\", *(f'{v.left}-{v.right}' for v in x_ranges), sep='\\n')"
   ]
  },
  {
   "cell_type": "code",
   "execution_count": 55,
   "metadata": {
    "pycharm": {
     "name": "#%%\n"
    }
   },
   "outputs": [
    {
     "name": "stdout",
     "output_type": "stream",
     "text": [
      "Распределение значений по диапазонам:\n",
      "(28, 37]: 29, 32, 34, 35, 35, 35, 36\n",
      "(37, 44]: 39, 40, 40, 41, 43, 44, 44, 44\n",
      "(44, 52]: 46, 46, 47, 48, 48, 49, 50, 52, 52\n",
      "(52, 60]: 53, 53, 53, 53, 54, 54, 54, 54, 55, 55, 57, 58, 58, 58, 59, 59, 59, 59, 60, 60, 60\n",
      "(60, 68]: 61, 61, 62, 62, 62, 62, 62, 62, 63, 63, 63, 63, 63, 64, 64, 65, 65, 65, 65, 65, 65, 65, 65, 66, 66, 66, 67, 67\n",
      "(68, 76]: 69, 69, 69, 69, 71, 72, 72, 72, 73, 73, 73, 74, 75, 76, 76\n",
      "(76, 83]: 77, 77, 81, 81, 81, 82, 83\n",
      "(83, 91]: 84, 85, 86, 91, 91\n"
     ]
    }
   ],
   "source": [
    "s = x_df.groupby(cutter_x)\n",
    "tmp = dict(list(s))\n",
    "\n",
    "print(\"Распределение значений по диапазонам:\")\n",
    "print(*(f\"{str(k)}: {', '.join(str(v[0]) for v in tmp[k].values)}\" for k in tmp), sep='\\n')"
   ]
  },
  {
   "cell_type": "code",
   "execution_count": 56,
   "metadata": {
    "pycharm": {
     "name": "#%%\n"
    }
   },
   "outputs": [
    {
     "name": "stdout",
     "output_type": "stream",
     "text": [
      "Абсолютные частоты по диапазонам:\n",
      "(28, 37]: 7\n",
      "(37, 44]: 8\n",
      "(44, 52]: 9\n",
      "(52, 60]: 21\n",
      "(60, 68]: 28\n",
      "(68, 76]: 15\n",
      "(76, 83]: 7\n",
      "(83, 91]: 5\n",
      "Абсолютные частоты по диапазонам:\n",
      "7\n",
      "8\n",
      "9\n",
      "21\n",
      "28\n",
      "15\n",
      "7\n",
      "5\n"
     ]
    }
   ],
   "source": [
    "print(\"Абсолютные частоты по диапазонам:\")\n",
    "print(*(f\"{str(k)}: {len(tmp[k])}\" for k in tmp), sep='\\n')\n",
    "\n",
    "print(\"Абсолютные частоты по диапазонам:\")\n",
    "print(*(f\"{len(tmp[k])}\" for k in tmp), sep='\\n')"
   ]
  },
  {
   "cell_type": "code",
   "execution_count": 57,
   "outputs": [
    {
     "name": "stdout",
     "output_type": "stream",
     "text": [
      "Длины диапазонов:\n",
      "(28, 37]: 8\n",
      "(37, 44]: 6\n",
      "(44, 52]: 7\n",
      "(52, 60]: 7\n",
      "(60, 68]: 7\n",
      "(68, 76]: 7\n",
      "(76, 83]: 6\n",
      "(83, 91]: 7\n",
      "Длины диапазонов:\n",
      "8\n",
      "6\n",
      "7\n",
      "7\n",
      "7\n",
      "7\n",
      "6\n",
      "7\n"
     ]
    }
   ],
   "source": [
    "print(\"Длины диапазонов:\")\n",
    "print(*(f\"{str(k)}: {k.right - k.left - 1}\" for k in tmp), sep='\\n')\n",
    "\n",
    "print(\"Длины диапазонов:\")\n",
    "print(*(f\"{k.right - k.left - 1}\" for k in tmp), sep='\\n')"
   ],
   "metadata": {
    "collapsed": false,
    "pycharm": {
     "name": "#%%\n"
    }
   }
  },
  {
   "cell_type": "code",
   "execution_count": 89,
   "outputs": [
    {
     "name": "stdout",
     "output_type": "stream",
     "text": [
      "Среднее значение на интервале:\n",
      "(29, 38]: 33.0\n",
      "(38, 46]: 41.5\n",
      "(46, 54]: 49.5\n",
      "(54, 62]: 57.5\n",
      "(62, 71]: 66.0\n",
      "(71, 79]: 74.5\n",
      "(79, 87]: 82.5\n",
      "(87, 95]: 90.5\n",
      "Среднее значение на интервале:\n",
      "33.0\n",
      "41.5\n",
      "49.5\n",
      "57.5\n",
      "66.0\n",
      "74.5\n",
      "82.5\n",
      "90.5\n"
     ]
    }
   ],
   "source": [
    "print(\"Среднее значение на интервале:\")\n",
    "print(*(f\"{str(k)}: {(k.right + k.left - 1) / 2}\" for k in tmp), sep='\\n')\n",
    "\n",
    "print(\"Среднее значение на интервале:\")\n",
    "print(*(f\"{(k.right + k.left - 1) / 2}\" for k in tmp), sep='\\n')"
   ],
   "metadata": {
    "collapsed": false,
    "pycharm": {
     "name": "#%%\n"
    }
   }
  },
  {
   "cell_type": "code",
   "execution_count": 58,
   "metadata": {
    "pycharm": {
     "name": "#%%\n"
    }
   },
   "outputs": [
    {
     "name": "stdout",
     "output_type": "stream",
     "text": [
      "Диапазоны для гистограммы:\n",
      "(28, 37]: 0.875\n",
      "(37, 44]: 1.3333333333333333\n",
      "(44, 52]: 1.2857142857142858\n",
      "(52, 60]: 3.0\n",
      "(60, 68]: 4.0\n",
      "(68, 76]: 2.142857142857143\n",
      "(76, 83]: 1.1666666666666667\n",
      "(83, 91]: 0.7142857142857143\n",
      "Диапазоны для гистограммы:\n",
      "0.875\n",
      "1.3333333333333333\n",
      "1.2857142857142858\n",
      "3.0\n",
      "4.0\n",
      "2.142857142857143\n",
      "1.1666666666666667\n",
      "0.7142857142857143\n"
     ]
    }
   ],
   "source": [
    "print(\"Диапазоны для гистограммы:\")\n",
    "print(*(f\"{str(k)}: {len(tmp[k]) / (k.right - k.left - 1)}\" for k in tmp), sep='\\n')\n",
    "\n",
    "print(\"Диапазоны для гистограммы:\")\n",
    "print(*(f\"{len(tmp[k]) / (k.right - k.left - 1)}\" for k in tmp), sep='\\n')\n",
    "\n",
    "# для гистограммы интевалы сортируются по x\n",
    "# y'ком являются частоты на соответсвующем диапазони / длину этого диапазона"
   ]
  },
  {
   "cell_type": "code",
   "execution_count": 90,
   "outputs": [
    {
     "name": "stdout",
     "output_type": "stream",
     "text": [
      "Д:\n",
      "(29, 38]: 0.02\n",
      "(38, 46]: 0.05\n",
      "(46, 54]: 0.12\n",
      "(54, 62]: 0.12\n",
      "(62, 71]: 0.25\n",
      "(71, 79]: 0.24\n",
      "(79, 87]: 0.12\n",
      "(87, 95]: 0.08\n",
      "Д:\n",
      "0.02\n",
      "0.05\n",
      "0.12\n",
      "0.12\n",
      "0.25\n",
      "0.24\n",
      "0.12\n",
      "0.08\n"
     ]
    }
   ],
   "source": [
    "print(\"Д:\")\n",
    "print(*(f\"{str(k)}: {len(tmp[k]) / N}\" for k in tmp), sep='\\n')\n",
    "\n",
    "print(\"Д:\")\n",
    "print(*(f\"{len(tmp[k]) / N}\" for k in tmp), sep='\\n')"
   ],
   "metadata": {
    "collapsed": false,
    "pycharm": {
     "name": "#%%\n"
    }
   }
  },
  {
   "cell_type": "code",
   "execution_count": 59,
   "metadata": {
    "pycharm": {
     "name": "#%%\n"
    }
   },
   "outputs": [
    {
     "name": "stdout",
     "output_type": "stream",
     "text": [
      "Точки для полигона частот:\n",
      "32.0; 7\n",
      "40.0; 8\n",
      "47.5; 9\n",
      "55.5; 21\n",
      "63.5; 28\n",
      "71.5; 15\n",
      "79.0; 7\n",
      "86.5; 5\n",
      "Точки для полигона частот:\n",
      "32.0\n",
      "40.0\n",
      "47.5\n",
      "55.5\n",
      "63.5\n",
      "71.5\n",
      "79.0\n",
      "86.5\n",
      "Точки для полигона частот:\n",
      "7\n",
      "8\n",
      "9\n",
      "21\n",
      "28\n",
      "15\n",
      "7\n",
      "5\n"
     ]
    }
   ],
   "source": [
    "print(\"Точки для полигона частот:\")\n",
    "print(*(f\"{(k.left + k.right - 1) / 2}; {len(tmp[k])}\" for k in tmp), sep='\\n')\n",
    "\n",
    "print(\"Точки для полигона частот:\")\n",
    "print(*(f\"{(k.left + k.right - 1) / 2}\" for k in tmp), sep='\\n')\n",
    "\n",
    "print(\"Точки для полигона частот:\")\n",
    "print(*(f\"{len(tmp[k])}\" for k in tmp), sep='\\n')\n",
    "\n",
    "# для полигона вычисляются середины интервалов - это x\n",
    "# y - частотность значений на каждом интервале"
   ]
  },
  {
   "cell_type": "code",
   "execution_count": 93,
   "outputs": [
    {
     "name": "stdout",
     "output_type": "stream",
     "text": [
      "Точки для эмпирического графика:\n",
      "0.0; 0\n",
      "33.0; 0.02\n",
      "41.5; 0.07\n",
      "49.5; 0.19\n",
      "57.5; 0.31\n",
      "66.0; 0.56\n",
      "74.5; 0.8\n",
      "82.5; 0.92\n",
      "90.5; 1.0\n",
      "Точки для эмпирического графика:\n",
      "0\n",
      "0.02\n",
      "0.07\n",
      "0.19\n",
      "0.31\n",
      "0.56\n",
      "0.8\n",
      "0.92\n",
      "1.0\n",
      "0\n",
      "33.0\n",
      "41.5\n",
      "49.5\n",
      "57.5\n",
      "66.0\n",
      "74.5\n",
      "82.5\n",
      "90.5\n"
     ]
    }
   ],
   "source": [
    "print(\"Точки для эмпирического графика:\")\n",
    "print(\"0.0; 0\")\n",
    "tmp_cum = 0\n",
    "for k in tmp:\n",
    "    tmp_cum += len(tmp[k])\n",
    "    print(f\"{(k.left + k.right - 1) / 2}; {tmp_cum / N}\")\n",
    "\n",
    "print(\"Точки для эмпирического графика:\")\n",
    "print(\"0\")\n",
    "tmp_cum = 0\n",
    "for k in tmp:\n",
    "    tmp_cum += len(tmp[k])\n",
    "    print(f\"{tmp_cum / N}\")\n",
    "\n",
    "print(\"0\")\n",
    "tmp_cum = 0\n",
    "for k in tmp:\n",
    "    tmp_cum += len(tmp[k])\n",
    "    print(f\"{(k.left + k.right - 1) / 2}\")\n",
    "# Точки должны быть кумулятивны: каждое следующее значение должно быть суммой предыдущих"
   ],
   "metadata": {
    "collapsed": false,
    "pycharm": {
     "name": "#%%\n"
    }
   }
  },
  {
   "cell_type": "code",
   "execution_count": 61,
   "outputs": [
    {
     "name": "stdout",
     "output_type": "stream",
     "text": [
      "Выборочное среднее: 59.730000000000004\n"
     ]
    }
   ],
   "source": [
    "x_center_moment = sum((k.left + k.right - 1) / 2 * len(tmp[k]) / N for k in tmp)\n",
    "print(f\"Выборочное среднее: {x_center_moment}\")"
   ],
   "metadata": {
    "collapsed": false,
    "pycharm": {
     "name": "#%%\n"
    }
   }
  },
  {
   "cell_type": "code",
   "execution_count": 62,
   "outputs": [
    {
     "name": "stdout",
     "output_type": "stream",
     "text": [
      "Выборочная дисперсия: 188.7721\n"
     ]
    }
   ],
   "source": [
    "sample_variance = sum(((x_center_moment - (k.left + k.right - 1) / 2) ** 2) * len(tmp[k]) for k in tmp) / N\n",
    "print(f\"Выборочная дисперсия: {sample_variance}\")"
   ],
   "metadata": {
    "collapsed": false,
    "pycharm": {
     "name": "#%%\n"
    }
   }
  },
  {
   "cell_type": "code",
   "execution_count": 63,
   "outputs": [
    {
     "name": "stdout",
     "output_type": "stream",
     "text": [
      "Выборочное отклонение: 13.739435941842736\n"
     ]
    }
   ],
   "source": [
    "sample_square_deviation = sqrt(sample_variance)\n",
    "print(f\"Выборочное отклонение: {sample_square_deviation}\")"
   ],
   "metadata": {
    "collapsed": false,
    "pycharm": {
     "name": "#%%\n"
    }
   }
  },
  {
   "cell_type": "code",
   "execution_count": 64,
   "outputs": [
    {
     "name": "stdout",
     "output_type": "stream",
     "text": [
      "Исправленная дисперсия: 190.67888888888888\n"
     ]
    }
   ],
   "source": [
    "normalized_variance = sample_variance * N / (N - 1)\n",
    "print(f\"Исправленная дисперсия: {normalized_variance}\")"
   ],
   "metadata": {
    "collapsed": false,
    "pycharm": {
     "name": "#%%\n"
    }
   }
  },
  {
   "cell_type": "code",
   "execution_count": 65,
   "outputs": [
    {
     "name": "stdout",
     "output_type": "stream",
     "text": [
      "Исправленное отклонение: 13.808652681883519\n"
     ]
    }
   ],
   "source": [
    "normalized_square_deviation = sqrt(normalized_variance)\n",
    "print(f\"Исправленное отклонение: {normalized_square_deviation}\")"
   ],
   "metadata": {
    "collapsed": false,
    "pycharm": {
     "name": "#%%\n"
    }
   }
  },
  {
   "cell_type": "code",
   "execution_count": 94,
   "outputs": [
    {
     "name": "stdout",
     "output_type": "stream",
     "text": [
      "u3 = -376754.01344999974\n",
      "Коэффициент ассиметрии: -1.4308824880397502\n"
     ]
    }
   ],
   "source": [
    "u3 = sum(((x_center_moment - (k.left + k.right - 1) / 2) ** 3) * len(tmp[k]) for k in tmp)\n",
    "coefficient_asymmetry = u3 / N / (normalized_square_deviation ** 3)\n",
    "print(f\"u3 = {u3}\")\n",
    "print(f\"Коэффициент ассиметрии: {coefficient_asymmetry}\")"
   ],
   "metadata": {
    "collapsed": false,
    "pycharm": {
     "name": "#%%\n"
    }
   }
  },
  {
   "cell_type": "code",
   "execution_count": 95,
   "outputs": [
    {
     "name": "stdout",
     "output_type": "stream",
     "text": [
      "u4 = 132828.67750644992\n",
      "Аксцесс: 3.653310823374731\n"
     ]
    }
   ],
   "source": [
    "u4 = sum(((x_center_moment - (k.left + k.right - 1) / 2) ** 4) * len(tmp[k]) for k in tmp) / N\n",
    "print(f\"u4 = {u4}\")\n",
    "excess = u4 / (normalized_square_deviation ** 4)\n",
    "print(f\"Аксцесс: {excess}\")"
   ],
   "metadata": {
    "collapsed": false,
    "pycharm": {
     "name": "#%%\n"
    }
   }
  },
  {
   "cell_type": "code",
   "execution_count": 68,
   "outputs": [
    {
     "name": "stdout",
     "output_type": "stream",
     "text": [
      "Доверительный интервал: (57.03707055539883; 62.42292944460118)\n"
     ]
    }
   ],
   "source": [
    "left_bound = x_center_moment - sample_square_deviation * 1.96 / sqrt(N)\n",
    "right_bound = x_center_moment + sample_square_deviation * 1.96 / sqrt(N)\n",
    "print(f\"Доверительный интервал: ({left_bound}; {right_bound})\")"
   ],
   "metadata": {
    "collapsed": false,
    "pycharm": {
     "name": "#%%\n"
    }
   }
  },
  {
   "cell_type": "code",
   "execution_count": 96,
   "outputs": [
    {
     "name": "stdout",
     "output_type": "stream",
     "text": [
      "   Xi  Xi+1   n      wtf1      wtf2   wtf11   wtf22      m'  (n - m')^2 / m'\n",
      "0  28    37   2 -2.297835 -1.646069 -0.4892 -0.4501  0.0782        47.229095\n",
      "1  37    44   5 -1.646069 -1.139141 -0.4501 -0.3727  0.3870        54.986483\n",
      "2  44    52  12 -1.139141 -0.559794 -0.3727 -0.2122  1.9260        52.692355\n",
      "3  52    60  12 -0.559794  0.019553 -0.2122  0.0078  2.6400        33.185455\n",
      "4  60    68  25  0.019553  0.598900  0.0078  0.2254  5.4400        70.329706\n",
      "5  68    76  24  0.598900  1.178247  0.2254  0.3807  3.7272       110.266801\n",
      "6  76    83  12  1.178247  1.685175  0.3807  0.4540  0.8796       140.590378\n",
      "7  83    91   8  1.685175  2.264522  0.4540  0.4882  0.2736       218.191729\n"
     ]
    }
   ],
   "source": [
    "# print(sorted(set(cutter_x)))\n",
    "\n",
    "table = pd.DataFrame()\n",
    "table['Xi'] = [d.left for d in sorted(set(cutter_x))]\n",
    "table['Xi+1'] = [d.right for d in sorted(set(cutter_x))]\n",
    "table['n'] = [len(tmp[k]) for k in tmp]\n",
    "table['wtf1'] = [(d.left - x_center_moment) / normalized_square_deviation for d in sorted(set(cutter_x))]\n",
    "table['wtf2'] = [(d.right - x_center_moment) / normalized_square_deviation for d in sorted(set(cutter_x))]\n",
    "table['wtf11'] = [round(norm.cdf(v) - 0.5, 4) for v in table['wtf1']]\n",
    "# table['wtf22'] = [-0.4535, -0.3810, -0.2257, -0.0675, 0.2123, 0.3729, 0.4505, 0.4875]\n",
    "table['wtf22'] = [round(norm.cdf(v) - 0.5, 4) for v in table['wtf2']]\n",
    "table['m\\''] = [(w2 - w1) * n for w1, w2, n in zip(table['wtf11'], table['wtf22'], table['n'])]\n",
    "table['(n - m\\')^2 / m\\''] = [(n - m) ** 2 / m for n, m in zip(table['n'], table['m\\''])]\n",
    "# table['wtf11'] = pd.Series(norm.cdf((d.left - x_center_moment) / normalized_square_deviation) - 0.5 for d in sorted(set(cutter_x)))\n",
    "\n",
    "print(table)\n",
    "\n",
    "# table.to_excel('1.xls', index=False)\n",
    "\n",
    "# #%%\n",
    "#\n",
    "# print(*(round(norm.cdf(v) - 0.5, 4) for v in table['wtf1']))\n",
    "# print(*[-0.4898, -0.4535, -0.3790, -0.2224, 0.0080, 0.2123, 0.3729, 0.4495])\n",
    "# print(*(round(abs(a - b), 4) for a, b in zip((round(norm.cdf(v) - 0.5, 2) for v in table['wtf1']), [-0.4898, -0.4535, -0.3790, -0.2224, 0.0080, 0.2123, 0.3729, 0.4495])))"
   ],
   "metadata": {
    "collapsed": false,
    "pycharm": {
     "name": "#%%\n"
    }
   }
  },
  {
   "cell_type": "code",
   "execution_count": 70,
   "outputs": [
    {
     "name": "stdout",
     "output_type": "stream",
     "text": [
      "Кси наблюдаемая =  716.9409230244357\n"
     ]
    }
   ],
   "source": [
    "print(\"Кси наблюдаемая = \", table['(n - m\\')^2 / m\\''].sum())"
   ],
   "metadata": {
    "collapsed": false,
    "pycharm": {
     "name": "#%%\n"
    }
   }
  },
  {
   "cell_type": "code",
   "execution_count": 97,
   "outputs": [
    {
     "name": "stdout",
     "output_type": "stream",
     "text": [
      "   Xi  Xi+1   n         P        m'           wtf\n",
      "0  28    37   2 -0.002763 -0.005525   -727.986275\n",
      "1  37    44   5 -0.001368 -0.006839  -3665.496790\n",
      "2  44    52  12 -0.001112 -0.013350 -10810.715645\n",
      "3  52    60  12 -0.000816 -0.009791 -14731.408010\n",
      "4  60    68  25 -0.000624 -0.015600 -40115.190730\n",
      "5  68    76  24 -0.000493 -0.011823 -48764.728000\n",
      "6  76    83  12 -0.000353 -0.004238 -34001.689126\n",
      "7  83    91   8 -0.000337 -0.002697 -23747.602474\n"
     ]
    },
    {
     "name": "stderr",
     "output_type": "stream",
     "text": [
      "/home/rodion/anaconda3/lib/python3.7/site-packages/ipykernel_launcher.py:3: SettingWithCopyWarning: \n",
      "A value is trying to be set on a copy of a slice from a DataFrame.\n",
      "Try using .loc[row_indexer,col_indexer] = value instead\n",
      "\n",
      "See the caveats in the documentation: https://pandas.pydata.org/pandas-docs/stable/user_guide/indexing.html#returning-a-view-versus-a-copy\n",
      "  This is separate from the ipykernel package so we can avoid doing imports until\n",
      "/home/rodion/anaconda3/lib/python3.7/site-packages/ipykernel_launcher.py:4: SettingWithCopyWarning: \n",
      "A value is trying to be set on a copy of a slice from a DataFrame.\n",
      "Try using .loc[row_indexer,col_indexer] = value instead\n",
      "\n",
      "See the caveats in the documentation: https://pandas.pydata.org/pandas-docs/stable/user_guide/indexing.html#returning-a-view-versus-a-copy\n",
      "  after removing the cwd from sys.path.\n",
      "/home/rodion/anaconda3/lib/python3.7/site-packages/ipykernel_launcher.py:5: SettingWithCopyWarning: \n",
      "A value is trying to be set on a copy of a slice from a DataFrame.\n",
      "Try using .loc[row_indexer,col_indexer] = value instead\n",
      "\n",
      "See the caveats in the documentation: https://pandas.pydata.org/pandas-docs/stable/user_guide/indexing.html#returning-a-view-versus-a-copy\n",
      "  \"\"\"\n"
     ]
    }
   ],
   "source": [
    "table2 = table[['Xi', 'Xi+1', 'n']]\n",
    "func = lambda a, b: (atan(a) - atan(b)) / pi\n",
    "table2['P'] = [func(a, b) for a, b in zip(table2['Xi'], table2['Xi+1'])]\n",
    "table2['m\\''] = [n * p for n, p in  zip(table2['n'], table2['P'])]\n",
    "table2['wtf'] = [(n - m) ** 2 / m for n, m in zip(table2['n'], table2['m\\''])]\n",
    "print(table2)\n",
    "# table2.to_excel('2.xls', index=False)"
   ],
   "metadata": {
    "collapsed": false,
    "pycharm": {
     "name": "#%%\n"
    }
   }
  },
  {
   "cell_type": "code",
   "execution_count": 72,
   "outputs": [
    {
     "name": "stdout",
     "output_type": "stream",
     "text": [
      "Кси нормальная = -152384.28640119266\n"
     ]
    }
   ],
   "source": [
    "# \"кси наблюдаемая\"\n",
    "ksi = table2['wtf'].sum()\n",
    "print(f\"Кси нормальная = {ksi}\")"
   ],
   "metadata": {
    "collapsed": false,
    "pycharm": {
     "name": "#%%\n"
    }
   }
  },
  {
   "cell_type": "code",
   "execution_count": 73,
   "outputs": [],
   "source": [
    "s = x_df.groupby(cutter_x)\n",
    "\n",
    "counted_n = int(s.count().sum())\n",
    "# print(f\"Учтено {counted_n}/{N} элементов\")\n",
    "\n",
    "assert counted_n == N, f\"НЕ БЫЛ УЧТЕНО {N - counted_n} ЭЛЕМЕНТОВ!\""
   ],
   "metadata": {
    "collapsed": false,
    "pycharm": {
     "name": "#%%\n"
    }
   }
  },
  {
   "cell_type": "code",
   "execution_count": 74,
   "outputs": [
    {
     "name": "stdout",
     "output_type": "stream",
     "text": [
      "     y\n",
      "35  30\n",
      "6   33\n",
      "87  39\n",
      "29  43\n",
      "3   43\n",
      "..  ..\n",
      "22  90\n",
      "0   91\n",
      "73  94\n",
      "94  94\n",
      "89  95\n",
      "\n",
      "[100 rows x 1 columns]\n",
      "Диапазоны:\n",
      "(29; 38]\n",
      "(38; 46]\n",
      "(46; 54]\n",
      "(54; 62]\n",
      "(62; 71]\n",
      "(71; 79]\n",
      "(79; 87]\n",
      "(87; 95]\n",
      "Диапазоны:\n",
      "29-38\n",
      "38-46\n",
      "46-54\n",
      "54-62\n",
      "62-71\n",
      "71-79\n",
      "79-87\n",
      "87-95\n"
     ]
    }
   ],
   "source": [
    "y_df = df[['y']].sort_values(by='y')\n",
    "print(y_df)\n",
    "\n",
    "y_mn = df['y'].min()\n",
    "y_mx = df['y'].max()\n",
    "\n",
    "k = y_mx - y_mn\n",
    "h = k / n\n",
    "\n",
    "range_y_df = np.round(np.arange(y_mn, y_mx + h, h), 0).astype('int')\n",
    "range_y_df[0] -= 1\n",
    "# ^ TODO: разобраться почему минимальное значение не попадает в (!) открытую (!) левую границу диапазона\n",
    "\n",
    "cutter_y = pd.cut(y_df['y'], range_y_df)\n",
    "\n",
    "# orig_interval = cutter_y.min()\n",
    "# repl_interval = pd.Interval(left=orig_interval.left, right=orig_interval.right, closed='both')\n",
    "# cutter_y = cutter_y.replace(to_replace=orig_interval, value=repl_interval)\n",
    "\n",
    "print(\"Диапазоны:\", *(f'({v.left}; {v.right}]' for v in sorted(set(cutter_y.values))), sep='\\n')\n",
    "\n",
    "print(\"Диапазоны:\", *(f'{v.left}-{v.right}' for v in sorted(set(cutter_y.values))), sep='\\n')"
   ],
   "metadata": {
    "collapsed": false,
    "pycharm": {
     "name": "#%%\n"
    }
   }
  },
  {
   "cell_type": "code",
   "execution_count": 75,
   "outputs": [
    {
     "name": "stdout",
     "output_type": "stream",
     "text": [
      "Распределение значений по диапазонам:\n",
      "(29, 38]: 30, 33\n",
      "(38, 46]: 39, 43, 43, 43, 46\n",
      "(46, 54]: 51, 51, 51, 52, 52, 52, 53, 53, 53, 53, 54, 54\n",
      "(54, 62]: 56, 57, 57, 57, 58, 59, 61, 62, 62, 62, 62, 62\n",
      "(62, 71]: 63, 64, 64, 64, 65, 65, 66, 66, 67, 67, 67, 68, 68, 68, 68, 68, 69, 70, 70, 70, 70, 70, 70, 71, 71\n",
      "(71, 79]: 72, 72, 72, 73, 73, 74, 74, 74, 74, 74, 74, 74, 74, 74, 75, 75, 76, 76, 76, 76, 78, 78, 79, 79\n",
      "(79, 87]: 80, 80, 81, 81, 82, 82, 82, 83, 84, 85, 87, 87\n",
      "(87, 95]: 88, 88, 90, 90, 91, 94, 94, 95\n"
     ]
    }
   ],
   "source": [
    "s = y_df.groupby(cutter_y)\n",
    "tmp = dict(list(s))\n",
    "\n",
    "print(\"Распределение значений по диапазонам:\")\n",
    "print(*(f\"{str(k)}: {', '.join(str(v[0]) for v in tmp[k].values)}\" for k in tmp), sep='\\n')"
   ],
   "metadata": {
    "collapsed": false,
    "pycharm": {
     "name": "#%%\n"
    }
   }
  },
  {
   "cell_type": "code",
   "execution_count": 76,
   "outputs": [
    {
     "name": "stdout",
     "output_type": "stream",
     "text": [
      "    y_range  frequency  center_moment\n",
      "0  (29, 38]          2           67.0\n",
      "1  (38, 46]          5          210.0\n",
      "2  (46, 54]         12          600.0\n",
      "3  (54, 62]         12          696.0\n",
      "4  (62, 71]         25         1662.5\n",
      "5  (71, 79]         24         1800.0\n",
      "6  (79, 87]         12          996.0\n",
      "7  (87, 95]          8          728.0\n",
      "Центральный момент Y: 67.595\n",
      "Центральный момент X (среднее выборочное/матожидание): 59.730000000000004\n"
     ]
    }
   ],
   "source": [
    "s = y_df.groupby(cutter_y)\n",
    "tmp = dict(list(s))\n",
    "\n",
    "y_ranges_df = pd.DataFrame()\n",
    "y_ranges_df['y_range'] = [k for k in tmp]\n",
    "y_ranges_df['frequency'] = [len(tmp[k]) for k in tmp]\n",
    "y_ranges_df['center_moment'] = [(r.right + r.left) / 2 * f for r, f in zip(y_ranges_df['y_range'], y_ranges_df['frequency'])]\n",
    "\n",
    "y_center_moment = y_ranges_df['center_moment'].sum() / N\n",
    "\n",
    "print(y_ranges_df)\n",
    "print(f\"Центральный момент Y: {y_center_moment}\")\n",
    "print(f\"Центральный момент X (среднее выборочное/матожидание): {x_center_moment}\")"
   ],
   "metadata": {
    "collapsed": false,
    "pycharm": {
     "name": "#%%\n"
    }
   }
  },
  {
   "cell_type": "code",
   "execution_count": 77,
   "outputs": [
    {
     "name": "stdout",
     "output_type": "stream",
     "text": [
      "Вторые центральные моменты (дисперсия):\n",
      "Для x: 188.7721\n",
      "Для y: 190.21347499999996\n"
     ]
    }
   ],
   "source": [
    "x_sample_variance = sample_variance\n",
    "y_sample_variance = sum(((y_center_moment - (k.left + k.right - 1) / 2) ** 2) * len(tmp[k]) for k in tmp) / N\n",
    "print(f\"Вторые центральные моменты (дисперсия):\")\n",
    "print(f\"Для x: {x_sample_variance}\")\n",
    "print(f\"Для y: {y_sample_variance}\")"
   ],
   "metadata": {
    "collapsed": false,
    "pycharm": {
     "name": "#%%\n"
    }
   }
  },
  {
   "cell_type": "code",
   "execution_count": 78,
   "outputs": [
    {
     "name": "stdout",
     "output_type": "stream",
     "text": [
      "Диапазоны:\n",
      "29-38\n",
      "38-46\n",
      "46-54\n",
      "54-62\n",
      "62-71\n",
      "71-79\n",
      "79-87\n",
      "87-95\n"
     ]
    }
   ],
   "source": [
    "print(\"Диапазоны:\", *(f'{v.left}-{v.right}' for v in sorted(set(cutter_y.values))), sep='\\n')"
   ],
   "metadata": {
    "collapsed": false,
    "pycharm": {
     "name": "#%%\n"
    }
   }
  },
  {
   "cell_type": "code",
   "execution_count": 99,
   "outputs": [
    {
     "name": "stdout",
     "output_type": "stream",
     "text": [
      "Частотность по парным диапазонам:\n",
      "[[ 2  4  1  0  0  0  0  0]\n",
      " [ 0  1  5  2  0  0  0  0]\n",
      " [ 0  0  4  4  1  0  0  0]\n",
      " [ 0  0  2  5 10  4  0  0]\n",
      " [ 0  0  0  1 12 12  3  0]\n",
      " [ 0  0  0  0  2  7  5  1]\n",
      " [ 0  0  0  0  0  1  2  4]\n",
      " [ 0  0  0  0  0  0  2  3]]\n"
     ]
    }
   ],
   "source": [
    "frequency_matrix = np.array([[0] * n] * n)\n",
    "ranges_y = sorted(set(k for k in cutter_y))\n",
    "\n",
    "for j, r in enumerate(sorted(set(k for k in cutter_y))):\n",
    "    for i, r1 in enumerate(sorted(set(k for k in cutter_x))):\n",
    "        # print(f\"X: {r1} Y: {r}\")\n",
    "        # print(len(df[(df['y'] > r.left) & (df['y'] <= r.right) & (df['x'] > r1.left) & (df['x'] <= r1.right)]))\n",
    "        frequency_matrix[i, j] = len(df[(df['y'] > r.left) & (df['y'] <= r.right) & (df['x'] > r1.left) & (df['x'] <= r1.right)])\n",
    "print(f\"Частотность по парным диапазонам:\\n{frequency_matrix}\")\n",
    "\n",
    "# pd.DataFrame(frequency_matrix).to_excel('3.xls', index=False)"
   ],
   "metadata": {
    "collapsed": false,
    "pycharm": {
     "name": "#%%\n"
    }
   }
  },
  {
   "cell_type": "code",
   "execution_count": 104,
   "outputs": [
    {
     "name": "stdout",
     "output_type": "stream",
     "text": [
      "Частотность произведения средних на частотность:\n",
      "[[ 2112  5312  1584     0     0     0     0     0]\n",
      " [    0  1660  9900  4600     0     0     0     0]\n",
      " [    0     0  9405 10925  3135     0     0     0]\n",
      " [    0     0  5494 15956 36630 16539     0     0]\n",
      " [    0     0     0  3651 50292 56769 15716     0]\n",
      " [    0     0     0     0  9438 37287 29493  6470]\n",
      " [    0     0     0     0     0  5885 13035 28598]\n",
      " [    0     0     0     0     0     0 14272 23484]]\n",
      "(так и называется, шок) XY = 4176.42\n"
     ]
    }
   ],
   "source": [
    "matrix1 = frequency_matrix.copy()\n",
    "\n",
    "x_ranges_centers = sorted((v.right + v.left - 1) / 2 for v in set(k for k in cutter_x))\n",
    "y_ranges_centers = sorted((v.right + v.left - 1) / 2 for v in set(k for k in cutter_y))\n",
    "\n",
    "for i, x_v in enumerate(x_ranges_centers):\n",
    "    for j, y_v in enumerate(y_ranges_centers):\n",
    "        matrix1[i, j] *= x_v * y_v\n",
    "\n",
    "# for i, x_v in enumerate(x_ranges_centers):\n",
    "#     for j, y_v in enumerate(y_ranges_centers):\n",
    "#         print(i, j, matrix1[i, j], x_v, y_v)\n",
    "\n",
    "print(f\"Частотность произведения средних на частотность:\\n{matrix1}\")\n",
    "xy = sum(sum(matrix1)) / N\n",
    "print(f\"(так и называется, шок) XY = {xy}\")"
   ],
   "metadata": {
    "collapsed": false,
    "pycharm": {
     "name": "#%%\n"
    }
   }
  },
  {
   "cell_type": "code",
   "execution_count": 81,
   "metadata": {
    "pycharm": {
     "name": "#%%\n"
    }
   },
   "outputs": [
    {
     "name": "stdout",
     "output_type": "stream",
     "text": [
      "Коэффициент ковариации: 138.97064999999975\n"
     ]
    }
   ],
   "source": [
    "covariance_coefficient = xy - x_center_moment * y_center_moment\n",
    "print(f\"Коэффициент ковариации: {covariance_coefficient}\")"
   ]
  },
  {
   "cell_type": "code",
   "execution_count": 82,
   "outputs": [
    {
     "name": "stdout",
     "output_type": "stream",
     "text": [
      "Коэффициент корреляции: 0.7333875707189373\n"
     ]
    }
   ],
   "source": [
    "correlation_coefficient = covariance_coefficient / sqrt(x_sample_variance * y_sample_variance)\n",
    "print(f\"Коэффициент корреляции: {correlation_coefficient}\")"
   ],
   "metadata": {
    "collapsed": false,
    "pycharm": {
     "name": "#%%\n"
    }
   }
  },
  {
   "cell_type": "code",
   "execution_count": 83,
   "outputs": [
    {
     "name": "stdout",
     "output_type": "stream",
     "text": [
      "Построим эмпирическую линию y по x:\n",
      "32.0 : 40.214285714285715 (кол-во частот: 7)\n",
      "40.0 : 50.5 (кол-во частот: 8)\n",
      "47.5 : 54.888888888888886 (кол-во частот: 9)\n",
      "55.5 : 64.02380952380952 (кол-во частот: 21)\n",
      "63.5 : 71.10714285714286 (кол-во частот: 28)\n",
      "71.5 : 77.1 (кол-во частот: 15)\n",
      "79.0 : 85.92857142857143 (кол-во частот: 7)\n",
      "86.5 : 87.3 (кол-во частот: 5)\n"
     ]
    }
   ],
   "source": [
    "print(\"Построим эмпирическую линию y по x:\")\n",
    "\n",
    "for i, x_v in enumerate(x_ranges_centers):\n",
    "    tmp_x_sum = 0\n",
    "    for j, y_v in enumerate(y_ranges_centers):\n",
    "        tmp_x_sum += frequency_matrix[i, j] * y_v\n",
    "    print(f\"{x_v} : {tmp_x_sum / sum(frequency_matrix[i])} (кол-во частот: {sum(frequency_matrix[i])})\")"
   ],
   "metadata": {
    "collapsed": false,
    "pycharm": {
     "name": "#%%\n"
    }
   }
  },
  {
   "cell_type": "code",
   "execution_count": 84,
   "outputs": [
    {
     "name": "stdout",
     "output_type": "stream",
     "text": [
      "Построим эмпирическую линию x по y:\n",
      "33.0 : 32.0 (кол-во частот: 2)\n",
      "41.5 : 33.6 (кол-во частот: 5)\n",
      "49.5 : 44.416666666666664 (кол-во частот: 12)\n",
      "57.5 : 50.916666666666664 (кол-во частот: 12)\n",
      "66.0 : 60.3 (кол-во частот: 25)\n",
      "74.5 : 65.14583333333333 (кол-во частот: 24)\n",
      "82.5 : 73.25 (кол-во частот: 12)\n",
      "90.5 : 80.875 (кол-во частот: 8)\n"
     ]
    }
   ],
   "source": [
    "print(\"Построим эмпирическую линию x по y:\")\n",
    "\n",
    "for j, y_v in enumerate(y_ranges_centers):\n",
    "    tmp_y_sum = 0\n",
    "    for i, x_v in enumerate(x_ranges_centers):\n",
    "        tmp_y_sum += frequency_matrix[i, j] * x_v\n",
    "    print(f\"{y_v} : {tmp_y_sum / sum(frequency_matrix[:, j])} (кол-во частот: {sum(frequency_matrix[:, j])})\")"
   ],
   "metadata": {
    "collapsed": false,
    "pycharm": {
     "name": "#%%\n"
    }
   }
  },
  {
   "cell_type": "code",
   "execution_count": 85,
   "outputs": [
    {
     "name": "stdout",
     "output_type": "stream",
     "text": [
      "Коэффициент корреляции: 0.7333875707189373\n",
      "Центральный момент X: 59.730000000000004\n",
      "Центральный момент Y: 67.595\n",
      "Корни вторых центральных моментов\n",
      "для x: 13.739435941842736\n",
      "для y: 13.791790130363786\n"
     ]
    }
   ],
   "source": [
    "print(f\"Коэффициент корреляции: {correlation_coefficient}\")\n",
    "print(f\"Центральный момент X: {x_center_moment}\")\n",
    "print(f\"Центральный момент Y: {y_center_moment}\")\n",
    "print(f\"Корни вторых центральных моментов\\nдля x: {sqrt(x_sample_variance)}\\nдля y: {sqrt(y_sample_variance)}\")\n",
    "\n",
    "# тут полина выводит линии регрессии\n",
    "# y = correlation_coefficient * sqrt(y_sample_variance) / sqrt(x_sample_variance) * (x - x_center_moment) + y_center_moment\n",
    "# x = correlation_coefficient * sqrt(x_sample_variance) / sqrt(y_sample_variance) * (y - y_center_moment) + x_center_moment"
   ],
   "metadata": {
    "collapsed": false,
    "pycharm": {
     "name": "#%%\n"
    }
   }
  },
  {
   "cell_type": "code",
   "execution_count": 102,
   "outputs": [
    {
     "name": "stdout",
     "output_type": "stream",
     "text": [
      "Точки линии регрессии y по x:\n",
      "32.0: 47.18 40.21\n",
      "40.0: 53.07  50.5\n",
      "47.5: 58.59 54.89\n",
      "55.5: 64.48 64.02\n",
      "63.5: 70.37 71.11\n",
      "71.5: 76.26  77.1\n",
      "79.0: 81.78 85.93\n",
      "86.5:  87.3  87.3\n"
     ]
    }
   ],
   "source": [
    "# t = pd.DataFrame(columns=('x', 'регрессия', 'корреляция'))\n",
    "\n",
    "print(\"Точки линии регрессии y по x:\")\n",
    "for i, x_v in enumerate(x_ranges_centers):\n",
    "    tmp_x_sum = 0\n",
    "    for j, y_v in enumerate(y_ranges_centers):\n",
    "        tmp_x_sum += frequency_matrix[i, j] * y_v\n",
    "    # y_v - регрессия\n",
    "    # y_ev - эмпирическая\n",
    "    y_ev = tmp_x_sum / sum(frequency_matrix[i])\n",
    "    y_v = correlation_coefficient * sqrt(y_sample_variance) / sqrt(x_sample_variance) * (x_v - x_center_moment) + y_center_moment\n",
    "    print(f\"{x_v}: {round(y_v, 2):5} {round(y_ev, 2):5}\")\n",
    "    # t.loc[i] = [x_v, y_v, y_ev]\n",
    "\n",
    "# t.to_excel('4.xls', index=False)"
   ],
   "metadata": {
    "collapsed": false,
    "pycharm": {
     "name": "#%%\n"
    }
   }
  },
  {
   "cell_type": "code",
   "execution_count": 103,
   "outputs": [
    {
     "name": "stdout",
     "output_type": "stream",
     "text": [
      "Точки линии регрессии x по y:\n",
      "33.0: 34.45  32.0\n",
      "41.5: 40.66  33.6\n",
      "49.5: 46.51 44.42\n",
      "57.5: 52.35 50.92\n",
      "66.0: 58.56  60.3\n",
      "74.5: 64.77 65.15\n",
      "82.5: 70.62 73.25\n",
      "90.5: 76.46 80.88\n"
     ]
    }
   ],
   "source": [
    "# t = pd.DataFrame(columns=('x', 'регрессия', 'корреляция'))\n",
    "\n",
    "print(\"Точки линии регрессии x по y:\")\n",
    "for j, y_v in enumerate(y_ranges_centers):\n",
    "    tmp_y_sum = 0\n",
    "    for i, x_v in enumerate(x_ranges_centers):\n",
    "        tmp_y_sum += frequency_matrix[i, j] * x_v\n",
    "    x_ev = tmp_y_sum / sum(frequency_matrix[:, j])\n",
    "    x_v = correlation_coefficient * sqrt(x_sample_variance) / sqrt(y_sample_variance) * (y_v - y_center_moment) + x_center_moment\n",
    "    print(f\"{y_v}: {round(x_v, 2):5} {round(x_ev, 2):5}\")\n",
    "    # t.loc[j] = [y_v, x_v, x_ev]\n",
    "# t.to_excel('5.xls', index=False)"
   ],
   "metadata": {
    "collapsed": false,
    "pycharm": {
     "name": "#%%\n"
    }
   }
  },
  {
   "cell_type": "code",
   "execution_count": 88,
   "outputs": [],
   "source": [
    "# data = np.array(np.random.rand(1000))\n",
    "# y, binEdges = np.histogram(data,bins=100)\n",
    "# bincenters = 0.5*(binEdges[1:]+binEdges[:-1])\n",
    "# p.plot(bincenters,y,'-')\n",
    "# p.show()\n"
   ],
   "metadata": {
    "collapsed": false,
    "pycharm": {
     "name": "#%%\n"
    }
   }
  }
 ],
 "metadata": {
  "kernelspec": {
   "display_name": "Python 3",
   "language": "python",
   "name": "python3"
  },
  "language_info": {
   "codemirror_mode": {
    "name": "ipython",
    "version": 3
   },
   "file_extension": ".py",
   "mimetype": "text/x-python",
   "name": "python",
   "nbconvert_exporter": "python",
   "pygments_lexer": "ipython3",
   "version": "3.7.0"
  }
 },
 "nbformat": 4,
 "nbformat_minor": 1
}